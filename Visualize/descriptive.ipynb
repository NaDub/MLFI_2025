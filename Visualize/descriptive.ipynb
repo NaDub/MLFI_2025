{
 "cells": [
  {
   "cell_type": "code",
   "execution_count": 1,
   "metadata": {},
   "outputs": [],
   "source": [
    "import sys\n",
    "import os\n",
    "\n",
    "sys.path.append(os.path.abspath(os.path.join(os.getcwd(), \"..\")))\n",
    "\n",
    "from Manage_data.db_manager import get_data\n",
    "import pandas as pd"
   ]
  },
  {
   "cell_type": "code",
   "execution_count": 2,
   "metadata": {},
   "outputs": [
    {
     "name": "stdout",
     "output_type": "stream",
     "text": [
      "entry already exists or no title\n"
     ]
    },
    {
     "data": {
      "text/html": [
       "<div>\n",
       "<style scoped>\n",
       "    .dataframe tbody tr th:only-of-type {\n",
       "        vertical-align: middle;\n",
       "    }\n",
       "\n",
       "    .dataframe tbody tr th {\n",
       "        vertical-align: top;\n",
       "    }\n",
       "\n",
       "    .dataframe thead th {\n",
       "        text-align: right;\n",
       "    }\n",
       "</style>\n",
       "<table border=\"1\" class=\"dataframe\">\n",
       "  <thead>\n",
       "    <tr style=\"text-align: right;\">\n",
       "      <th></th>\n",
       "      <th>Title</th>\n",
       "      <th>Date</th>\n",
       "      <th>Open</th>\n",
       "      <th>High</th>\n",
       "      <th>Low</th>\n",
       "      <th>Close</th>\n",
       "      <th>Adj_close</th>\n",
       "      <th>Volume</th>\n",
       "    </tr>\n",
       "  </thead>\n",
       "  <tbody>\n",
       "    <tr>\n",
       "      <th>0</th>\n",
       "      <td>META</td>\n",
       "      <td>2025-02-18</td>\n",
       "      <td>736.00</td>\n",
       "      <td>736.73</td>\n",
       "      <td>706.44</td>\n",
       "      <td>716.37</td>\n",
       "      <td>716.37</td>\n",
       "      <td>21815704</td>\n",
       "    </tr>\n",
       "    <tr>\n",
       "      <th>1</th>\n",
       "      <td>META</td>\n",
       "      <td>2025-02-14</td>\n",
       "      <td>726.14</td>\n",
       "      <td>740.91</td>\n",
       "      <td>725.62</td>\n",
       "      <td>736.67</td>\n",
       "      <td>736.67</td>\n",
       "      <td>16884300</td>\n",
       "    </tr>\n",
       "    <tr>\n",
       "      <th>2</th>\n",
       "      <td>META</td>\n",
       "      <td>2025-02-13</td>\n",
       "      <td>721.52</td>\n",
       "      <td>729.00</td>\n",
       "      <td>718.04</td>\n",
       "      <td>728.56</td>\n",
       "      <td>728.56</td>\n",
       "      <td>12569100</td>\n",
       "    </tr>\n",
       "    <tr>\n",
       "      <th>3</th>\n",
       "      <td>META</td>\n",
       "      <td>2025-02-12</td>\n",
       "      <td>715.30</td>\n",
       "      <td>727.10</td>\n",
       "      <td>712.60</td>\n",
       "      <td>725.38</td>\n",
       "      <td>725.38</td>\n",
       "      <td>12016500</td>\n",
       "    </tr>\n",
       "    <tr>\n",
       "      <th>4</th>\n",
       "      <td>META</td>\n",
       "      <td>2025-02-11</td>\n",
       "      <td>713.32</td>\n",
       "      <td>723.66</td>\n",
       "      <td>710.04</td>\n",
       "      <td>719.80</td>\n",
       "      <td>719.80</td>\n",
       "      <td>12998000</td>\n",
       "    </tr>\n",
       "  </tbody>\n",
       "</table>\n",
       "</div>"
      ],
      "text/plain": [
       "  Title       Date    Open    High     Low   Close  Adj_close    Volume\n",
       "0  META 2025-02-18  736.00  736.73  706.44  716.37     716.37  21815704\n",
       "1  META 2025-02-14  726.14  740.91  725.62  736.67     736.67  16884300\n",
       "2  META 2025-02-13  721.52  729.00  718.04  728.56     728.56  12569100\n",
       "3  META 2025-02-12  715.30  727.10  712.60  725.38     725.38  12016500\n",
       "4  META 2025-02-11  713.32  723.66  710.04  719.80     719.80  12998000"
      ]
     },
     "execution_count": 2,
     "metadata": {},
     "output_type": "execute_result"
    }
   ],
   "source": [
    "df = get_data('META')\n",
    "df.head()"
   ]
  },
  {
   "cell_type": "code",
   "execution_count": 3,
   "metadata": {},
   "outputs": [
    {
     "data": {
      "text/plain": [
       "Title                object\n",
       "Date         datetime64[ns]\n",
       "Open                float64\n",
       "High                float64\n",
       "Low                 float64\n",
       "Close               float64\n",
       "Adj_close           float64\n",
       "Volume                int64\n",
       "dtype: object"
      ]
     },
     "execution_count": 3,
     "metadata": {},
     "output_type": "execute_result"
    }
   ],
   "source": [
    "df.dtypes"
   ]
  }
 ],
 "metadata": {
  "kernelspec": {
   "display_name": "venv",
   "language": "python",
   "name": "python3"
  },
  "language_info": {
   "codemirror_mode": {
    "name": "ipython",
    "version": 3
   },
   "file_extension": ".py",
   "mimetype": "text/x-python",
   "name": "python",
   "nbconvert_exporter": "python",
   "pygments_lexer": "ipython3",
   "version": "3.12.8"
  }
 },
 "nbformat": 4,
 "nbformat_minor": 2
}
